{
 "cells": [
  {
   "cell_type": "markdown",
   "metadata": {},
   "source": [
    "# Tutorial on collecting DFT Features\n",
    "* Fall 2022 Coding Camp by Liliana C. Gallegos\n",
    "* Utilizes DISCO python script to parse through Gaussian NBO and GIAO output files.\n",
    "* Collects NBO charges, NMR chemical shift values, bond distances, HOMO/LUMO molecular properties."
   ]
  },
  {
   "cell_type": "code",
   "execution_count": 1,
   "metadata": {},
   "outputs": [],
   "source": [
    "## Basic imports\n",
    "import os, sys, re, time, subprocess\n",
    "import glob, csv\n",
    "import numpy as np\n",
    "import pandas as pd\n",
    "import warnings\n",
    "warnings.filterwarnings('ignore')\n",
    "\n",
    "## DFT features\n",
    "import DISCO as cd\n",
    "\n",
    "## Rdkit \n",
    "from rdkit.Chem import AllChem as Chem\n",
    "from rdkit.Chem import SDMolSupplier "
   ]
  },
  {
   "cell_type": "code",
   "execution_count": 2,
   "metadata": {},
   "outputs": [],
   "source": [
    "## Working path\n",
    "wdir = '/home/liliana/projects/Coding-camp-tutorials/2022-Fall_run-collect-dft-features/'   \n",
    "os.chdir(wdir)"
   ]
  },
  {
   "cell_type": "markdown",
   "metadata": {},
   "source": [
    "# I. Simple examples"
   ]
  },
  {
   "cell_type": "code",
   "execution_count": 3,
   "metadata": {},
   "outputs": [],
   "source": [
    "## Load smiles\n",
    "csv = 'molecule_smiles.csv' \n",
    "reactants = pd.read_csv(csv)"
   ]
  },
  {
   "cell_type": "code",
   "execution_count": 6,
   "metadata": {},
   "outputs": [
    {
     "name": "stdout",
     "output_type": "stream",
     "text": [
      "Total number of NBO log files: 5 \n",
      "Total number of NMR log files: 5 \n"
     ]
    }
   ],
   "source": [
    "## DFT output files\n",
    "nbo_logs = sorted(glob.glob('outputs/*_NBO.log'))\n",
    "nmr_logs = sorted(glob.glob('outputs/*NMR.log'))\n",
    "# print('o Total number of log files: {} '.format(len(logs)))\n",
    "print('Total number of NBO log files: {} '.format(len(nbo_logs)))\n",
    "print('Total number of NMR log files: {} '.format(len(nmr_logs)))"
   ]
  },
  {
   "cell_type": "code",
   "execution_count": 5,
   "metadata": {},
   "outputs": [
    {
     "data": {
      "image/png": "[encoded data removed]",
      "text/plain": [
       "<PIL.PngImagePlugin.PngImageFile image mode=RGB size=1000x200 at 0x7FEE0738EED0>"
      ]
     },
     "execution_count": 5,
     "metadata": {},
     "output_type": "execute_result"
    }
   ],
   "source": [
    "mols = [ Chem.MolFromSmiles(smi) for smi in reactants['Smile'] ]\n",
    "Chem.Draw.MolsToGridImage(mols, molsPerRow=5)"
   ]
  },
  {
   "cell_type": "markdown",
   "metadata": {},
   "source": [
    "- Atoms of interest at the reaction center: N, Pd-metal, and ipso-Carbon atoms\n",
    "- For aryls: ipso-Carbons with C-X halogen bonds. \n",
    "- For amines: if multiple N-atoms with N-H bonds, prioritizes SP3 N-atoms then most negativily charged N-atoms.\n"
   ]
  },
  {
   "cell_type": "markdown",
   "metadata": {},
   "source": [
    "## (a) Collecting Bond Distances\n",
    "- Use log or xyz file and distance option: distance=(atom1,atom2)\n",
    "- For atom index of bonded atoms: .Bonded_atoms\n",
    "- For bond distance: .Dist"
   ]
  },
  {
   "cell_type": "code",
   "execution_count": 7,
   "metadata": {},
   "outputs": [
    {
     "name": "stdout",
     "output_type": "stream",
     "text": [
      "Bond distance for ['3C', '11Cl'] = 1.73 A\n"
     ]
    }
   ],
   "source": [
    "#### Single bond occurance\n",
    "mol1 = nbo_logs[0]\n",
    "dist = cd.disco(mol1, distance='Cl,C')\n",
    "\n",
    "ClC_atom_number = dist.Bonded_atoms[0]\n",
    "ClC_distance = round(dist.Dist[0], 2)\n",
    "\n",
    "print('Bond distance for {} = {} A'.format(ClC_atom_number, ClC_distance))"
   ]
  },
  {
   "cell_type": "code",
   "execution_count": 8,
   "metadata": {},
   "outputs": [
    {
     "name": "stdout",
     "output_type": "stream",
     "text": [
      "Bond distance for ['3N', '8H'] = 1.01 A\n",
      "Bond distance for ['6N', '15H'] = 1.01 A\n"
     ]
    }
   ],
   "source": [
    "#### Multiple bond occurance\n",
    "mol4 = nbo_logs[3]\n",
    "dist = cd.disco(mol4, distance='N,H')\n",
    "\n",
    "for ab_bond, length in zip(dist.Bonded_atoms, dist.Dist):\n",
    "    print('Bond distance for {} = {} A'.format(ab_bond, round(length,2)))"
   ]
  },
  {
   "cell_type": "markdown",
   "metadata": {},
   "source": [
    "## (b) Collecting HOMO and LUMO values"
   ]
  },
  {
   "cell_type": "markdown",
   "metadata": {},
   "source": [
    "- Use NBO computed (*log) file and molecular orbital option: mo=True\n",
    "- For HOMO value: .HOMO\n",
    "- For LUMO value: .LUMO"
   ]
  },
  {
   "cell_type": "code",
   "execution_count": 9,
   "metadata": {},
   "outputs": [
    {
     "name": "stdout",
     "output_type": "stream",
     "text": [
      "HOMO value =  -0.3698\n",
      "LUMO value =  -0.017\n"
     ]
    }
   ],
   "source": [
    "#### Molecular features: HOMO and LUMO\n",
    "feats_mol1 = cd.disco(mol1, mo=True)  \n",
    "\n",
    "print('HOMO value = ', feats_mol1.HOMO[0])\n",
    "print('LUMO value = ', feats_mol1.LUMO[0])"
   ]
  },
  {
   "cell_type": "markdown",
   "metadata": {},
   "source": [
    "## (c) Collecting atomic NBO charges"
   ]
  },
  {
   "cell_type": "markdown",
   "metadata": {},
   "source": [
    "- Use NBO computed (*log) file and charge option can be specified by atom number and/or element (e.g., '6', 'N', '6N'): charge=(atom1)\n",
    "- For element and atom index: .Atom\n",
    "- For atomic charge value: .Chrg  "
   ]
  },
  {
   "cell_type": "code",
   "execution_count": 10,
   "metadata": {},
   "outputs": [
    {
     "name": "stdout",
     "output_type": "stream",
     "text": [
      "Atom charge at 3C = 0.0343\n",
      "Atom charge at 11Cl = 0.03797\n",
      "Atom charge at 6N = -0.66961\n",
      "Atom charge at 4C = -0.26068\n"
     ]
    }
   ],
   "source": [
    "#### Atomic charges\n",
    "Catom, Clatom = ClC_atom_number\n",
    "Natom  = 'N' \n",
    "C2atom = '4'\n",
    "\n",
    "feats_C  = cd.disco(mol1, charge=Catom)    #### charge at C atom\n",
    "feats_Cl = cd.disco(mol1, charge=Clatom)   #### charge at Cl atom\n",
    "feats_N  = cd.disco(mol1, charge=Natom)    #### charge at N atom\n",
    "feats_C2 = cd.disco(mol1, charge=C2atom)   #### charge at ortho-C atom\n",
    "\n",
    "print('Atom charge at {} = {}'.format(feats_C.Atom[0], feats_C.Chrg[0]))\n",
    "print('Atom charge at {} = {}'.format(feats_Cl.Atom[0], feats_Cl.Chrg[0]))\n",
    "print('Atom charge at {} = {}'.format(feats_N.Atom[0], feats_N.Chrg[0]))\n",
    "print('Atom charge at {} = {}'.format(feats_C2.Atom[0], feats_C2.Chrg[0]))"
   ]
  },
  {
   "cell_type": "markdown",
   "metadata": {},
   "source": [
    "## (c) Collecting NMR tensor values"
   ]
  },
  {
   "cell_type": "markdown",
   "metadata": {},
   "source": [
    "- Use log file and nmr option can be specified by atom number and/or element (e.g., '6', 'N', '6N'): nmr=(atom1)\n",
    "- For atomic NMR tensor values: .NMR "
   ]
  },
  {
   "cell_type": "code",
   "execution_count": 11,
   "metadata": {},
   "outputs": [
    {
     "name": "stdout",
     "output_type": "stream",
     "text": [
      "NMR tensor value at 3C for mol1 = 24.4286\n",
      "NMR tensor value at 2C for mol2 = 43.0757\n"
     ]
    }
   ],
   "source": [
    "mol1_nmr = nmr_logs[0]\n",
    "mol2_nmr = nmr_logs[1]\n",
    "\n",
    "feats_mol1_nmrC = cd.disco(mol1_nmr, nmr=Catom)  \n",
    "feats_mol2_nmrC = cd.disco(mol2_nmr, nmr='2') \n",
    "\n",
    "print('NMR tensor value at {} for mol1 = {}'.format(feats_mol1_nmrC.Atom[0], feats_mol1_nmrC.NMR[0]))\n",
    "print('NMR tensor value at {} for mol2 = {}'.format(feats_mol2_nmrC.Atom[0], feats_mol2_nmrC.NMR[0]))"
   ]
  },
  {
   "cell_type": "markdown",
   "metadata": {},
   "source": [
    "- Use scale option for chemical shift values: scale=(intercept,slope)"
   ]
  },
  {
   "cell_type": "code",
   "execution_count": 12,
   "metadata": {},
   "outputs": [
    {
     "name": "stdout",
     "output_type": "stream",
     "text": [
      "13C NMR value at 3C for mol1 = 156.5 ppm\n",
      "13C NMR value at 2C for mol2 = 138.4 ppm\n"
     ]
    }
   ],
   "source": [
    "#### Scaled values for 13C NMR shield values\n",
    "#### http://cheshirenmr.info/ScalingFactors.htm\n",
    "feats_mol1_nmrC = cd.disco(mol1_nmr, nmr=Catom, scale='185.6667,-1.0303')  \n",
    "feats_mol2_nmrC = cd.disco(mol2_nmr, nmr='2', scale='185.6667,-1.0303') \n",
    "\n",
    "print('13C NMR value at {} for mol1 = {} ppm'.format(feats_mol1_nmrC.Atom[0], round(feats_mol1_nmrC.NMR[0],1)))\n",
    "print('13C NMR value at {} for mol2 = {} ppm'.format(feats_mol2_nmrC.Atom[0], round(feats_mol2_nmrC.NMR[0],1)))"
   ]
  },
  {
   "cell_type": "markdown",
   "metadata": {},
   "source": [
    "# II. High-throughput workflow"
   ]
  },
  {
   "cell_type": "code",
   "execution_count": 13,
   "metadata": {},
   "outputs": [
    {
     "name": "stdout",
     "output_type": "stream",
     "text": [
      "(5, 3)\n"
     ]
    },
    {
     "data": {
      "text/html": [
       "<div>\n",
       "<style scoped>\n",
       "    .dataframe tbody tr th:only-of-type {\n",
       "        vertical-align: middle;\n",
       "    }\n",
       "\n",
       "    .dataframe tbody tr th {\n",
       "        vertical-align: top;\n",
       "    }\n",
       "\n",
       "    .dataframe thead th {\n",
       "        text-align: right;\n",
       "    }\n",
       "</style>\n",
       "<table border=\"1\" class=\"dataframe\">\n",
       "  <thead>\n",
       "    <tr style=\"text-align: right;\">\n",
       "      <th></th>\n",
       "      <th>Name</th>\n",
       "      <th>Smile</th>\n",
       "      <th>Bond</th>\n",
       "    </tr>\n",
       "  </thead>\n",
       "  <tbody>\n",
       "    <tr>\n",
       "      <th>0</th>\n",
       "      <td>mol1</td>\n",
       "      <td>ClC1=CC=[N+]([Zn-](Cl)Cl)C=C1</td>\n",
       "      <td>Cl,C</td>\n",
       "    </tr>\n",
       "    <tr>\n",
       "      <th>1</th>\n",
       "      <td>mol2</td>\n",
       "      <td>Cc1cc(Br)ccc1</td>\n",
       "      <td>Br,C</td>\n",
       "    </tr>\n",
       "    <tr>\n",
       "      <th>2</th>\n",
       "      <td>mol3</td>\n",
       "      <td>CNc1ccncc1</td>\n",
       "      <td>N,H</td>\n",
       "    </tr>\n",
       "    <tr>\n",
       "      <th>3</th>\n",
       "      <td>mol4</td>\n",
       "      <td>O=C1CNCCN1</td>\n",
       "      <td>N,H</td>\n",
       "    </tr>\n",
       "    <tr>\n",
       "      <th>4</th>\n",
       "      <td>mol5</td>\n",
       "      <td>Cl[Pd]1(Cl)[P+](c2ccccc2)(c2ccccc2)c2ccc3ccccc...</td>\n",
       "      <td>Pd,P</td>\n",
       "    </tr>\n",
       "  </tbody>\n",
       "</table>\n",
       "</div>"
      ],
      "text/plain": [
       "   Name                                              Smile  Bond\n",
       "0  mol1                      ClC1=CC=[N+]([Zn-](Cl)Cl)C=C1  Cl,C\n",
       "1  mol2                                      Cc1cc(Br)ccc1  Br,C\n",
       "2  mol3                                         CNc1ccncc1   N,H\n",
       "3  mol4                                         O=C1CNCCN1   N,H\n",
       "4  mol5  Cl[Pd]1(Cl)[P+](c2ccccc2)(c2ccccc2)c2ccc3ccccc...  Pd,P"
      ]
     },
     "execution_count": 13,
     "metadata": {},
     "output_type": "execute_result"
    }
   ],
   "source": [
    "#### csv dataframe\n",
    "print(reactants.shape)\n",
    "reactants.head()"
   ]
  },
  {
   "cell_type": "code",
   "execution_count": 14,
   "metadata": {},
   "outputs": [],
   "source": [
    "def log2mol(log_file):\n",
    "    ''' Converts log files into mol files. Obabel doesnt work all the time. '''\n",
    "    name, ext = os.path.splitext(log_file)\n",
    "    \n",
    "    obabel_command = ['obabel', '-ig16', f'{log_file}', '-osdf', '-O', f'{name}.mol']\n",
    "    subprocess.call(obabel_command)\n",
    "    \n",
    "    if os.path.exists(f'{name}.mol'): mol_file = f'{name}.mol'\n",
    "    else: mol_file = 'None'\n",
    "    return mol_file\n",
    "\n",
    "def BasicNatom(mol):\n",
    "    ''' \n",
    "    Find basic Nitrogen atom if multiple Nitrogens with N-H. \n",
    "    Prioritizes (i) SP3 Nitrogen atoms then (ii) most negativily charged. \n",
    "    Returns: Nitrogen atom index.\n",
    "    '''\n",
    "    #mol = Chem.MolFromSmiles(smile)\n",
    "    Chem.ComputeGasteigerCharges(mol)\n",
    "    Nconnectivity = mol.GetSubstructMatches(Chem.MolFromSmarts('[D{-2}]'))\n",
    "    Nbasic = []\n",
    "    #### (i) Find SP3 Nitrogen atom\n",
    "    for i, atom in enumerate(mol.GetAtoms()):\n",
    "        ###atom.SetProp(\"molAtomMapNumber\", str(atom.GetIdx()))\n",
    "        for N in Nconnectivity :\n",
    "            if atom.GetAtomicNum() == 7 and atom.GetIdx() == N[0] and atom.GetHybridization()==Chem.rdchem.HybridizationType.SP3:\n",
    "                Nbasic.append(atom.GetIdx())\n",
    "                ###print(f'N{atom.GetIdx()}:', round(mol.GetAtomWithIdx(atom.GetIdx()).GetDoubleProp('_GasteigerCharge'),4), atom.GetHybridization())\n",
    "    #### (ii) Find most Negative Nitrogen atom\n",
    "    if len(Nbasic) > 1:\n",
    "        Ncharge = [ mol.GetAtomWithIdx(atom).GetDoubleProp('_GasteigerCharge') for i, atom in enumerate(Nbasic)]\n",
    "        Nindx = Nbasic[Ncharge.index(min(Ncharge))]\n",
    "    else: Nindx = Nbasic[0]\n",
    "    return Nindx+1"
   ]
  },
  {
   "cell_type": "code",
   "execution_count": 15,
   "metadata": {},
   "outputs": [
    {
     "name": "stdout",
     "output_type": "stream",
     "text": [
      "Total Time Collecting DFT features for 10 log files = 0.07 secs \n",
      "\n"
     ]
    }
   ],
   "source": [
    "nbo_files, atom1_chrg, atom1, bond_distance, lumo, homo = [], [], [], [], [], [] \n",
    "nmr_files, atom1_nmr = [], []\n",
    "\n",
    "start = time.time()\n",
    "for i, (rxt, smi, bond) in enumerate(zip(reactants['Name'], reactants['Smile'], reactants['Bond'])):\n",
    "    #print(i, rxt, bond)\n",
    "    for log in sorted(nbo_logs):\n",
    "        if log.find(rxt) > -1:\n",
    "            \n",
    "            #### Bond distance \n",
    "            dist = cd.disco(log, distance=bond)\n",
    "            \n",
    "            #### Assign atom 1\n",
    "            atom1s = [ a if re.split('(\\d+)',a)[-1] in ['C', 'N', 'Pd'] else b for a, b in dist.Bonded_atoms ]\n",
    "            \n",
    "            #### If multiple N atoms, then find basic and electronegative Nitrogen atom (for amines)\n",
    "            if len(atom1s) > 1 and atom1s[0].find('N') > -1:\n",
    "                mol_file = log2mol(log)\n",
    "                mol = Chem.SDMolSupplier(mol_file)[0]\n",
    "                smi = Chem.MolToSmiles(mol)\n",
    "                atom1s = [str(BasicNatom(mol))]\n",
    "            \n",
    "            #### Molecular properties: HOMO, LUMO\n",
    "            #### Atomic charge\n",
    "            feats_nbo = cd.disco(log, mo=True, charge=atom1s[0])\n",
    "            nbo_files.append(rxt); homo.append(feats_nbo.HOMO[0]); lumo.append(feats_nbo.LUMO[0])\n",
    "            atom1_chrg.append(feats_nbo.Chrg[0]); atom1.append(feats_nbo.Atom[0]); bond_distance.append(dist.Dist[0])\n",
    "    \n",
    "    for log2 in sorted(nmr_logs):\n",
    "        if log2.find(rxt) > -1:\n",
    "            \n",
    "            #### Atomic NMR tensor value\n",
    "            feats_nmr = cd.disco(log2, nmr=atom1s[0])\n",
    "            nmr_files.append(rxt); atom1_nmr.append(feats_nmr.NMR[0])   \n",
    "            \n",
    "print('Total Time Collecting DFT features for {} log files = {} secs \\n'.format(len(nmr_files)+len(nbo_files), round(time.time() - start,2)))"
   ]
  },
  {
   "cell_type": "markdown",
   "metadata": {},
   "source": [
    "# III. Tabulate all features"
   ]
  },
  {
   "cell_type": "code",
   "execution_count": 16,
   "metadata": {},
   "outputs": [
    {
     "data": {
      "text/html": [
       "<div>\n",
       "<style scoped>\n",
       "    .dataframe tbody tr th:only-of-type {\n",
       "        vertical-align: middle;\n",
       "    }\n",
       "\n",
       "    .dataframe tbody tr th {\n",
       "        vertical-align: top;\n",
       "    }\n",
       "\n",
       "    .dataframe thead th {\n",
       "        text-align: right;\n",
       "    }\n",
       "</style>\n",
       "<table border=\"1\" class=\"dataframe\">\n",
       "  <thead>\n",
       "    <tr style=\"text-align: right;\">\n",
       "      <th></th>\n",
       "      <th>Name</th>\n",
       "      <th>Smile</th>\n",
       "      <th>Bond</th>\n",
       "      <th>Atom1</th>\n",
       "      <th>Atom1 charge</th>\n",
       "      <th>LUMO</th>\n",
       "      <th>HOMO</th>\n",
       "      <th>Bond Distance</th>\n",
       "      <th>Atom1 nmr</th>\n",
       "    </tr>\n",
       "  </thead>\n",
       "  <tbody>\n",
       "    <tr>\n",
       "      <th>0</th>\n",
       "      <td>mol1</td>\n",
       "      <td>ClC1=CC=[N+]([Zn-](Cl)Cl)C=C1</td>\n",
       "      <td>Cl,C</td>\n",
       "      <td>3C</td>\n",
       "      <td>0.03430</td>\n",
       "      <td>-0.0170</td>\n",
       "      <td>-0.3698</td>\n",
       "      <td>1.73220</td>\n",
       "      <td>24.4286</td>\n",
       "    </tr>\n",
       "    <tr>\n",
       "      <th>1</th>\n",
       "      <td>mol2</td>\n",
       "      <td>Cc1cc(Br)ccc1</td>\n",
       "      <td>Br,C</td>\n",
       "      <td>2C</td>\n",
       "      <td>-0.07746</td>\n",
       "      <td>0.0506</td>\n",
       "      <td>-0.3175</td>\n",
       "      <td>1.90708</td>\n",
       "      <td>43.0757</td>\n",
       "    </tr>\n",
       "    <tr>\n",
       "      <th>2</th>\n",
       "      <td>mol3</td>\n",
       "      <td>CNc1ccncc1</td>\n",
       "      <td>N,H</td>\n",
       "      <td>1N</td>\n",
       "      <td>-0.60228</td>\n",
       "      <td>0.0651</td>\n",
       "      <td>-0.2885</td>\n",
       "      <td>1.00521</td>\n",
       "      <td>187.6657</td>\n",
       "    </tr>\n",
       "    <tr>\n",
       "      <th>3</th>\n",
       "      <td>mol4</td>\n",
       "      <td>O=C1CNCCN1</td>\n",
       "      <td>N,H</td>\n",
       "      <td>6N</td>\n",
       "      <td>-0.68712</td>\n",
       "      <td>0.1032</td>\n",
       "      <td>-0.3102</td>\n",
       "      <td>1.00876</td>\n",
       "      <td>216.7489</td>\n",
       "    </tr>\n",
       "    <tr>\n",
       "      <th>4</th>\n",
       "      <td>mol5</td>\n",
       "      <td>Cl[Pd]1(Cl)[P+](c2ccccc2)(c2ccccc2)c2ccc3ccccc...</td>\n",
       "      <td>Pd,P</td>\n",
       "      <td>2Pd</td>\n",
       "      <td>0.43299</td>\n",
       "      <td>-0.0343</td>\n",
       "      <td>-0.2973</td>\n",
       "      <td>2.30633</td>\n",
       "      <td>-178.0082</td>\n",
       "    </tr>\n",
       "  </tbody>\n",
       "</table>\n",
       "</div>"
      ],
      "text/plain": [
       "   Name                                              Smile  Bond Atom1  \\\n",
       "0  mol1                      ClC1=CC=[N+]([Zn-](Cl)Cl)C=C1  Cl,C    3C   \n",
       "1  mol2                                      Cc1cc(Br)ccc1  Br,C    2C   \n",
       "2  mol3                                         CNc1ccncc1   N,H    1N   \n",
       "3  mol4                                         O=C1CNCCN1   N,H    6N   \n",
       "4  mol5  Cl[Pd]1(Cl)[P+](c2ccccc2)(c2ccccc2)c2ccc3ccccc...  Pd,P   2Pd   \n",
       "\n",
       "   Atom1 charge    LUMO    HOMO  Bond Distance  Atom1 nmr  \n",
       "0       0.03430 -0.0170 -0.3698        1.73220    24.4286  \n",
       "1      -0.07746  0.0506 -0.3175        1.90708    43.0757  \n",
       "2      -0.60228  0.0651 -0.2885        1.00521   187.6657  \n",
       "3      -0.68712  0.1032 -0.3102        1.00876   216.7489  \n",
       "4       0.43299 -0.0343 -0.2973        2.30633  -178.0082  "
      ]
     },
     "execution_count": 16,
     "metadata": {},
     "output_type": "execute_result"
    }
   ],
   "source": [
    "nbo_df = pd.DataFrame({ 'Name': nbo_files, 'Atom1': atom1, 'Atom1 charge':atom1_chrg, 'LUMO': lumo, 'HOMO': homo, 'Bond Distance': bond_distance }) \n",
    "nmr_df = pd.DataFrame({ 'Name': nmr_files, 'Atom1 nmr':atom1_nmr })\n",
    "feats_df = reactants.merge(nbo_df, on=['Name']).merge(nmr_df, on=['Name'])\n",
    "feats_df.head()"
   ]
  },
  {
   "cell_type": "markdown",
   "metadata": {},
   "source": [
    "# IV. Visualize feature distribution"
   ]
  },
  {
   "cell_type": "code",
   "execution_count": 17,
   "metadata": {},
   "outputs": [
    {
     "name": "stdout",
     "output_type": "stream",
     "text": [
      "(5, 5)\n"
     ]
    }
   ],
   "source": [
    "from sklearn.preprocessing import StandardScaler\n",
    "\n",
    "#### Scaled data\n",
    "scaler = StandardScaler()\n",
    "feats_num  = feats_df.select_dtypes(include=np.number)\n",
    "\n",
    "feats_scaled = pd.DataFrame(scaler.fit_transform(feats_num), columns=feats_num.columns)\n",
    "print(feats_scaled.shape)"
   ]
  },
  {
   "cell_type": "code",
   "execution_count": 18,
   "metadata": {},
   "outputs": [
    {
     "data": {
      "image/png": "[encoded data removed]",
      "text/plain": [
       "<Figure size 1440x1440 with 25 Axes>"
      ]
     },
     "metadata": {
      "needs_background": "light"
     },
     "output_type": "display_data"
    }
   ],
   "source": [
    "feats_scaled.plot.hist(subplots=True, layout=(5,5), figsize=(20, 20), bins=20);"
   ]
  },
  {
   "cell_type": "code",
   "execution_count": null,
   "metadata": {},
   "outputs": [],
   "source": []
  }
 ],
 "metadata": {
  "kernelspec": {
   "display_name": "Python [conda env:DL_CPU]",
   "language": "python",
   "name": "conda-env-DL_CPU-py"
  },
  "language_info": {
   "codemirror_mode": {
    "name": "ipython",
    "version": 3
   },
   "file_extension": ".py",
   "mimetype": "text/x-python",
   "name": "python",
   "nbconvert_exporter": "python",
   "pygments_lexer": "ipython3",
   "version": "3.7.6"
  }
 },
 "nbformat": 4,
 "nbformat_minor": 4
}
